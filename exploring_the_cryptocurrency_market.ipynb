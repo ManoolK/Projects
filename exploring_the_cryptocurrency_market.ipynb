{
 "cells": [
  {
   "cell_type": "markdown",
   "metadata": {},
   "source": [
    "# Exploring the cryptocurrency market\n",
    "\n",
    "<strong>Note</strong>: To run this project you need API key on the <a href='https://coinmarketcap.com/'>CoinMarketCap</a>"
   ]
  },
  {
   "cell_type": "code",
   "execution_count": 1,
   "metadata": {},
   "outputs": [],
   "source": [
    "import urllib.request as request\n",
    "import json\n",
    "import matplotlib.pyplot as plt\n",
    "import pandas as pd\n",
    "\n",
    "%matplotlib inline"
   ]
  },
  {
   "cell_type": "code",
   "execution_count": 2,
   "metadata": {},
   "outputs": [],
   "source": [
    "import config\n",
    "\n",
    "api_key = config.get_api_key('coinmarketcap')"
   ]
  },
  {
   "cell_type": "code",
   "execution_count": 3,
   "metadata": {},
   "outputs": [],
   "source": [
    "url = 'https://pro-api.coinmarketcap.com/v1/cryptocurrency/listings/latest?CMC_PRO_API_KEY='+api_key+'&limit=5000'\n",
    "with request.urlopen(url) as url_req:\n",
    "    data = json.loads(url_req.read().decode())"
   ]
  },
  {
   "cell_type": "code",
   "execution_count": 4,
   "metadata": {},
   "outputs": [],
   "source": [
    "all_ticks = pd.DataFrame(data['data'])"
   ]
  },
  {
   "cell_type": "code",
   "execution_count": 5,
   "metadata": {},
   "outputs": [
    {
     "data": {
      "text/html": [
       "<div>\n",
       "<style scoped>\n",
       "    .dataframe tbody tr th:only-of-type {\n",
       "        vertical-align: middle;\n",
       "    }\n",
       "\n",
       "    .dataframe tbody tr th {\n",
       "        vertical-align: top;\n",
       "    }\n",
       "\n",
       "    .dataframe thead th {\n",
       "        text-align: right;\n",
       "    }\n",
       "</style>\n",
       "<table border=\"1\" class=\"dataframe\">\n",
       "  <thead>\n",
       "    <tr style=\"text-align: right;\">\n",
       "      <th></th>\n",
       "      <th>circulating_supply</th>\n",
       "      <th>cmc_rank</th>\n",
       "      <th>date_added</th>\n",
       "      <th>id</th>\n",
       "      <th>last_updated</th>\n",
       "      <th>max_supply</th>\n",
       "      <th>name</th>\n",
       "      <th>num_market_pairs</th>\n",
       "      <th>platform</th>\n",
       "      <th>quote</th>\n",
       "      <th>slug</th>\n",
       "      <th>symbol</th>\n",
       "      <th>tags</th>\n",
       "      <th>total_supply</th>\n",
       "    </tr>\n",
       "  </thead>\n",
       "  <tbody>\n",
       "    <tr>\n",
       "      <th>0</th>\n",
       "      <td>1.820498e+07</td>\n",
       "      <td>1</td>\n",
       "      <td>2013-04-28T00:00:00.000Z</td>\n",
       "      <td>1</td>\n",
       "      <td>2020-02-07T17:07:38.000Z</td>\n",
       "      <td>2.100000e+07</td>\n",
       "      <td>Bitcoin</td>\n",
       "      <td>7681</td>\n",
       "      <td>None</td>\n",
       "      <td>{'USD': {'price': 9783.7820568, 'volume_24h': ...</td>\n",
       "      <td>bitcoin</td>\n",
       "      <td>BTC</td>\n",
       "      <td>[mineable]</td>\n",
       "      <td>1.820498e+07</td>\n",
       "    </tr>\n",
       "    <tr>\n",
       "      <th>1</th>\n",
       "      <td>1.096030e+08</td>\n",
       "      <td>2</td>\n",
       "      <td>2015-08-07T00:00:00.000Z</td>\n",
       "      <td>1027</td>\n",
       "      <td>2020-02-07T17:08:25.000Z</td>\n",
       "      <td>NaN</td>\n",
       "      <td>Ethereum</td>\n",
       "      <td>5144</td>\n",
       "      <td>None</td>\n",
       "      <td>{'USD': {'price': 220.912129564, 'volume_24h':...</td>\n",
       "      <td>ethereum</td>\n",
       "      <td>ETH</td>\n",
       "      <td>[mineable]</td>\n",
       "      <td>1.096030e+08</td>\n",
       "    </tr>\n",
       "    <tr>\n",
       "      <th>2</th>\n",
       "      <td>4.369822e+10</td>\n",
       "      <td>3</td>\n",
       "      <td>2013-08-04T00:00:00.000Z</td>\n",
       "      <td>52</td>\n",
       "      <td>2020-02-07T17:08:05.000Z</td>\n",
       "      <td>1.000000e+11</td>\n",
       "      <td>XRP</td>\n",
       "      <td>488</td>\n",
       "      <td>None</td>\n",
       "      <td>{'USD': {'price': 0.279511878609, 'volume_24h'...</td>\n",
       "      <td>xrp</td>\n",
       "      <td>XRP</td>\n",
       "      <td>[]</td>\n",
       "      <td>9.999109e+10</td>\n",
       "    </tr>\n",
       "    <tr>\n",
       "      <th>3</th>\n",
       "      <td>1.826590e+07</td>\n",
       "      <td>4</td>\n",
       "      <td>2017-07-23T00:00:00.000Z</td>\n",
       "      <td>1831</td>\n",
       "      <td>2020-02-07T17:08:07.000Z</td>\n",
       "      <td>2.100000e+07</td>\n",
       "      <td>Bitcoin Cash</td>\n",
       "      <td>422</td>\n",
       "      <td>None</td>\n",
       "      <td>{'USD': {'price': 435.625102737, 'volume_24h':...</td>\n",
       "      <td>bitcoin-cash</td>\n",
       "      <td>BCH</td>\n",
       "      <td>[mineable]</td>\n",
       "      <td>1.826590e+07</td>\n",
       "    </tr>\n",
       "    <tr>\n",
       "      <th>4</th>\n",
       "      <td>1.826305e+07</td>\n",
       "      <td>5</td>\n",
       "      <td>2018-11-09T00:00:00.000Z</td>\n",
       "      <td>3602</td>\n",
       "      <td>2020-02-07T17:08:10.000Z</td>\n",
       "      <td>2.100000e+07</td>\n",
       "      <td>Bitcoin SV</td>\n",
       "      <td>155</td>\n",
       "      <td>None</td>\n",
       "      <td>{'USD': {'price': 293.364132104, 'volume_24h':...</td>\n",
       "      <td>bitcoin-sv</td>\n",
       "      <td>BSV</td>\n",
       "      <td>[mineable]</td>\n",
       "      <td>1.826305e+07</td>\n",
       "    </tr>\n",
       "  </tbody>\n",
       "</table>\n",
       "</div>"
      ],
      "text/plain": [
       "   circulating_supply  cmc_rank                date_added    id  \\\n",
       "0        1.820498e+07         1  2013-04-28T00:00:00.000Z     1   \n",
       "1        1.096030e+08         2  2015-08-07T00:00:00.000Z  1027   \n",
       "2        4.369822e+10         3  2013-08-04T00:00:00.000Z    52   \n",
       "3        1.826590e+07         4  2017-07-23T00:00:00.000Z  1831   \n",
       "4        1.826305e+07         5  2018-11-09T00:00:00.000Z  3602   \n",
       "\n",
       "               last_updated    max_supply          name  num_market_pairs  \\\n",
       "0  2020-02-07T17:07:38.000Z  2.100000e+07       Bitcoin              7681   \n",
       "1  2020-02-07T17:08:25.000Z           NaN      Ethereum              5144   \n",
       "2  2020-02-07T17:08:05.000Z  1.000000e+11           XRP               488   \n",
       "3  2020-02-07T17:08:07.000Z  2.100000e+07  Bitcoin Cash               422   \n",
       "4  2020-02-07T17:08:10.000Z  2.100000e+07    Bitcoin SV               155   \n",
       "\n",
       "  platform                                              quote          slug  \\\n",
       "0     None  {'USD': {'price': 9783.7820568, 'volume_24h': ...       bitcoin   \n",
       "1     None  {'USD': {'price': 220.912129564, 'volume_24h':...      ethereum   \n",
       "2     None  {'USD': {'price': 0.279511878609, 'volume_24h'...           xrp   \n",
       "3     None  {'USD': {'price': 435.625102737, 'volume_24h':...  bitcoin-cash   \n",
       "4     None  {'USD': {'price': 293.364132104, 'volume_24h':...    bitcoin-sv   \n",
       "\n",
       "  symbol        tags  total_supply  \n",
       "0    BTC  [mineable]  1.820498e+07  \n",
       "1    ETH  [mineable]  1.096030e+08  \n",
       "2    XRP          []  9.999109e+10  \n",
       "3    BCH  [mineable]  1.826590e+07  \n",
       "4    BSV  [mineable]  1.826305e+07  "
      ]
     },
     "execution_count": 5,
     "metadata": {},
     "output_type": "execute_result"
    }
   ],
   "source": [
    "all_ticks.head()"
   ]
  },
  {
   "cell_type": "code",
   "execution_count": 19,
   "metadata": {},
   "outputs": [],
   "source": [
    "def get_quote(row, col_name: str):\n",
    "    col_value = row['quote']['USD'][col_name]\n",
    "    return col_value"
   ]
  },
  {
   "cell_type": "code",
   "execution_count": 20,
   "metadata": {},
   "outputs": [],
   "source": [
    "all_ticks['market_cap_usd'] = all_ticks.apply(get_quote, axis=1, args=['market_cap'])"
   ]
  },
  {
   "cell_type": "code",
   "execution_count": 8,
   "metadata": {},
   "outputs": [],
   "source": [
    "# Selecting the 'id' and the 'market_cap_usd' columns\n",
    "market_cap_raw = all_ticks.loc[:, ['slug', 'market_cap_usd']]"
   ]
  },
  {
   "cell_type": "code",
   "execution_count": 9,
   "metadata": {},
   "outputs": [
    {
     "data": {
      "text/plain": [
       "slug              2397\n",
       "market_cap_usd    2010\n",
       "dtype: int64"
      ]
     },
     "execution_count": 9,
     "metadata": {},
     "output_type": "execute_result"
    }
   ],
   "source": [
    "market_cap_raw.count()"
   ]
  },
  {
   "cell_type": "markdown",
   "metadata": {},
   "source": [
    "The cryptocurrencies with NaN value are of little interest to us, so they are safe to remove."
   ]
  },
  {
   "cell_type": "code",
   "execution_count": 10,
   "metadata": {},
   "outputs": [],
   "source": [
    "# Filtering out rows without a market capitalisation\n",
    "cap = market_cap_raw.query('market_cap_usd > 0')"
   ]
  },
  {
   "cell_type": "code",
   "execution_count": 11,
   "metadata": {},
   "outputs": [
    {
     "data": {
      "text/plain": [
       "slug              2010\n",
       "market_cap_usd    2010\n",
       "dtype: int64"
      ]
     },
     "execution_count": 11,
     "metadata": {},
     "output_type": "execute_result"
    }
   ],
   "source": [
    "cap.count()"
   ]
  },
  {
   "cell_type": "markdown",
   "metadata": {},
   "source": [
    "## How big is Ethereum compared with the rest of cryptocurrencies?\n",
    "Let's plot the market capitalization for the top 10 coins as the barplot to better visualize this. "
   ]
  },
  {
   "cell_type": "code",
   "execution_count": 57,
   "metadata": {},
   "outputs": [],
   "source": [
    "# Selecting the first 10 rows and setting the index\n",
    "cap10 = cap[:10].set_index('slug')\n",
    "\n",
    "# Calculating market_cap_perc\n",
    "total_market_cap = cap.market_cap_usd.sum()\n",
    "cap10 = cap10.assign(market_cap_perc=lambda x: x / total_market_cap * 100)"
   ]
  },
  {
   "cell_type": "code",
   "execution_count": 58,
   "metadata": {},
   "outputs": [
    {
     "data": {
      "text/plain": [
       "Text(0, 0.5, '% of total cap')"
      ]
     },
     "execution_count": 58,
     "metadata": {},
     "output_type": "execute_result"
    },
    {
     "data": {
      "image/png": "[encoded data removed]",
      "text/plain": [
       "<Figure size 432x288 with 1 Axes>"
      ]
     },
     "metadata": {
      "needs_background": "light"
     },
     "output_type": "display_data"
    }
   ],
   "source": [
    "# Plotting the bar plot\n",
    "ax = cap10.plot.bar(title='Top 10 market capitalization')\n",
    "ax.set_ylabel('% of total cap')"
   ]
  },
  {
   "cell_type": "markdown",
   "metadata": {},
   "source": [
    "### Making the plot easier to read and more informative\n",
    "Bitcoin is too big and other coins are hard to distinguish. Let's use a log<sup>10</sup> scale of the 'raw' capitalization and different colors."
   ]
  },
  {
   "cell_type": "code",
   "execution_count": 59,
   "metadata": {},
   "outputs": [
    {
     "data": {
      "text/plain": [
       "Text(0.5, 0, '')"
      ]
     },
     "execution_count": 59,
     "metadata": {},
     "output_type": "execute_result"
    },
    {
     "data": {
      "image/png": "[encoded data removed]",
      "text/plain": [
       "<Figure size 432x288 with 1 Axes>"
      ]
     },
     "metadata": {
      "needs_background": "light"
     },
     "output_type": "display_data"
    }
   ],
   "source": [
    "COLORS = ['orange', 'green', 'orange', 'cyan', 'cyan', 'blue', 'silver', 'orange', 'red', 'green']\n",
    "\n",
    "ax = cap10['market_cap_usd'].plot.bar(title='Top 10 market capitalization', logy=True, color=COLORS)\n",
    "ax.set_ylabel('% of total cap')\n",
    "ax.set_xlabel('')"
   ]
  },
  {
   "cell_type": "markdown",
   "metadata": {},
   "source": [
    "### Analizing volatility\n",
    "Let's select and plot the 24 hours and 7 days percentage change."
   ]
  },
  {
   "cell_type": "code",
   "execution_count": 60,
   "metadata": {},
   "outputs": [],
   "source": [
    "volatility = all_ticks.loc[:, ['slug', 'quote']]\n",
    "volatility['percent_change_24h'] = volatility.apply(get_quote, axis=1, args=['percent_change_24h'])\n",
    "volatility['percent_change_7d'] = volatility.apply(get_quote, axis=1, args=['percent_change_7d'])\n",
    "volatility = volatility.drop('quote', axis=1)"
   ]
  },
  {
   "cell_type": "code",
   "execution_count": 61,
   "metadata": {},
   "outputs": [],
   "source": [
    "volatility = volatility.set_index('slug').dropna()"
   ]
  },
  {
   "cell_type": "code",
   "execution_count": 62,
   "metadata": {},
   "outputs": [],
   "source": [
    "volatility = volatility.sort_values('percent_change_24h')"
   ]
  },
  {
   "cell_type": "code",
   "execution_count": 63,
   "metadata": {},
   "outputs": [
    {
     "data": {
      "text/html": [
       "<div>\n",
       "<style scoped>\n",
       "    .dataframe tbody tr th:only-of-type {\n",
       "        vertical-align: middle;\n",
       "    }\n",
       "\n",
       "    .dataframe tbody tr th {\n",
       "        vertical-align: top;\n",
       "    }\n",
       "\n",
       "    .dataframe thead th {\n",
       "        text-align: right;\n",
       "    }\n",
       "</style>\n",
       "<table border=\"1\" class=\"dataframe\">\n",
       "  <thead>\n",
       "    <tr style=\"text-align: right;\">\n",
       "      <th></th>\n",
       "      <th>percent_change_24h</th>\n",
       "      <th>percent_change_7d</th>\n",
       "    </tr>\n",
       "    <tr>\n",
       "      <th>slug</th>\n",
       "      <th></th>\n",
       "      <th></th>\n",
       "    </tr>\n",
       "  </thead>\n",
       "  <tbody>\n",
       "    <tr>\n",
       "      <th>win-coin</th>\n",
       "      <td>-97.0179</td>\n",
       "      <td>-97.1660</td>\n",
       "    </tr>\n",
       "    <tr>\n",
       "      <th>tcoin</th>\n",
       "      <td>-78.8560</td>\n",
       "      <td>-76.5553</td>\n",
       "    </tr>\n",
       "    <tr>\n",
       "      <th>lomocoin</th>\n",
       "      <td>-74.9796</td>\n",
       "      <td>-58.7612</td>\n",
       "    </tr>\n",
       "    <tr>\n",
       "      <th>999-coin</th>\n",
       "      <td>-71.3328</td>\n",
       "      <td>-91.8786</td>\n",
       "    </tr>\n",
       "    <tr>\n",
       "      <th>mainstream-for-the-underground</th>\n",
       "      <td>-70.7345</td>\n",
       "      <td>-61.4003</td>\n",
       "    </tr>\n",
       "  </tbody>\n",
       "</table>\n",
       "</div>"
      ],
      "text/plain": [
       "                                percent_change_24h  percent_change_7d\n",
       "slug                                                                 \n",
       "win-coin                                  -97.0179           -97.1660\n",
       "tcoin                                     -78.8560           -76.5553\n",
       "lomocoin                                  -74.9796           -58.7612\n",
       "999-coin                                  -71.3328           -91.8786\n",
       "mainstream-for-the-underground            -70.7345           -61.4003"
      ]
     },
     "execution_count": 63,
     "metadata": {},
     "output_type": "execute_result"
    }
   ],
   "source": [
    "volatility.head()"
   ]
  },
  {
   "cell_type": "markdown",
   "metadata": {},
   "source": [
    "It seems we can loose a lot of money on cryptocurrencies. Let's plot the top 10 biggest gainers and the top 10 losers in market capitalization."
   ]
  },
  {
   "cell_type": "code",
   "execution_count": 64,
   "metadata": {},
   "outputs": [],
   "source": [
    "#Defining a function with 2 parameters, the series to plot and the title\n",
    "def top10_subplot(volatility_series, title: str):\n",
    "    # Making the subplot and the figure for two side by side plots\n",
    "    fig, axes = plt.subplots(nrows=1, ncols=2, figsize=(10, 6))\n",
    "    \n",
    "    # Plotting the barchart for the top 10 losers\n",
    "    ax = volatility_series[:10].plot.bar(ax=axes[0], color='darkred')\n",
    "    \n",
    "    fig.suptitle(title)\n",
    "    ax.set_ylabel('% change')\n",
    "    \n",
    "    # Plotting the barchart for the top 10 winners\n",
    "    ax = volatility_series[-10:].plot.bar(ax=axes[1], color='darkblue')\n",
    "    \n",
    "    return fig, ax"
   ]
  },
  {
   "cell_type": "code",
   "execution_count": 65,
   "metadata": {},
   "outputs": [
    {
     "data": {
      "image/png": "[encoded data removed]",
      "text/plain": [
       "<Figure size 720x432 with 2 Axes>"
      ]
     },
     "metadata": {
      "needs_background": "light"
     },
     "output_type": "display_data"
    }
   ],
   "source": [
    "DTITLE = \"24 hours top losers and winners\"\n",
    "fig, ax = top10_subplot(volatility['percent_change_24h'], DTITLE)"
   ]
  },
  {
   "cell_type": "code",
   "execution_count": 66,
   "metadata": {},
   "outputs": [
    {
     "data": {
      "image/png": "[encoded data removed]",
      "text/plain": [
       "<Figure size 720x432 with 2 Axes>"
      ]
     },
     "metadata": {
      "needs_background": "light"
     },
     "output_type": "display_data"
    }
   ],
   "source": [
    "volatility7d = volatility.sort_values('percent_change_7d')\n",
    "WTITLE = \"Weekly top losers and winners\"\n",
    "fig, ax = top10_subplot(volatility7d['percent_change_7d'], WTITLE)"
   ]
  },
  {
   "cell_type": "markdown",
   "metadata": {},
   "source": [
    "### Lage Cap coins."
   ]
  },
  {
   "cell_type": "code",
   "execution_count": 73,
   "metadata": {},
   "outputs": [
    {
     "name": "stdout",
     "output_type": "stream",
     "text": [
      "       slug  market_cap_usd\n",
      "0   bitcoin    1.781135e+11\n",
      "1  ethereum    2.421264e+10\n",
      "2       xrp    1.221417e+10\n"
     ]
    }
   ],
   "source": [
    "largecaps = cap.query('market_cap_usd >= 10 ** 10')\n",
    "print(largecaps)"
   ]
  },
  {
   "cell_type": "markdown",
   "metadata": {},
   "source": [
    "### All groups of Cap\n",
    "<p>\n",
    "    <li>Large cap: +10 billion</li>\n",
    "    <li>Mid cap: 2 billion - 10 billion</li>\n",
    "    <li>Small cap: 300 million - 2 billion</li>\n",
    "    <li>Micro cap: 50 million - 300 million</li>\n",
    "    <li>Nano cap: Below 50 million</li>\n",
    "</p>\n",
    "As Nano cap is too large let's group Large, Mid and Small cap coins into a group called Biggish."
   ]
  },
  {
   "cell_type": "code",
   "execution_count": 68,
   "metadata": {},
   "outputs": [],
   "source": [
    "# Counting different marketcaps from the \"cap\" DataFrame\n",
    "def capcount(query_string: str) -> int:\n",
    "    return cap.query(query_string).count().slug"
   ]
  },
  {
   "cell_type": "code",
   "execution_count": 70,
   "metadata": {},
   "outputs": [
    {
     "data": {
      "text/plain": [
       "<BarContainer object of 3 artists>"
      ]
     },
     "execution_count": 70,
     "metadata": {},
     "output_type": "execute_result"
    },
    {
     "data": {
      "image/png": "[encoded data removed]",
      "text/plain": [
       "<Figure size 432x288 with 1 Axes>"
      ]
     },
     "metadata": {
      "needs_background": "light"
     },
     "output_type": "display_data"
    }
   ],
   "source": [
    "LABELS = ['biggish', 'micro', 'nano']\n",
    "\n",
    "biggish = capcount('market_cap_usd >= 10 ** 6 * 300')\n",
    "micro = capcount('market_cap_usd >= 10 ** 6 * 50 & market_cap_usd < 10 ** 6 * 300')\n",
    "nano =  capcount('market_cap_usd < 10 ** 6 * 50')\n",
    "\n",
    "values = [biggish, micro, nano]\n",
    "\n",
    "plt.bar([0, 1, 2], values, tick_label=LABELS)"
   ]
  }
 ],
 "metadata": {
  "kernelspec": {
   "display_name": "Python 3",
   "language": "python",
   "name": "python3"
  },
  "language_info": {
   "codemirror_mode": {
    "name": "ipython",
    "version": 3
   },
   "file_extension": ".py",
   "mimetype": "text/x-python",
   "name": "python",
   "nbconvert_exporter": "python",
   "pygments_lexer": "ipython3",
   "version": "3.7.3"
  }
 },
 "nbformat": 4,
 "nbformat_minor": 2
}
